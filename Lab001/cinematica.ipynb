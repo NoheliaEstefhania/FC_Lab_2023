{
  "nbformat": 4,
  "nbformat_minor": 0,
  "metadata": {
    "colab": {
      "provenance": [],
      "authorship_tag": "ABX9TyMMgRPjAeaAtjX5tswlyJK7",
      "include_colab_link": true
    },
    "kernelspec": {
      "name": "python3",
      "display_name": "Python 3"
    },
    "language_info": {
      "name": "python"
    }
  },
  "cells": [
    {
      "cell_type": "markdown",
      "metadata": {
        "id": "view-in-github",
        "colab_type": "text"
      },
      "source": [
        "<a href=\"https://colab.research.google.com/github/NoheliaEstefhania/FC_Lab_2023/blob/main/Lab001/cinematica.ipynb\" target=\"_parent\"><img src=\"https://colab.research.google.com/assets/colab-badge.svg\" alt=\"Open In Colab\"/></a>"
      ]
    },
    {
      "cell_type": "code",
      "execution_count": 29,
      "metadata": {
        "id": "EcmJWCSopDoJ"
      },
      "outputs": [],
      "source": [
        "import math\n",
        "import numpy as np"
      ]
    },
    {
      "cell_type": "markdown",
      "source": [
        "Metodos adicionales"
      ],
      "metadata": {
        "id": "4DfrLPn7WDfG"
      }
    },
    {
      "cell_type": "code",
      "source": [
        "#metodo que verica que el tiempo no sea negativo\n",
        "#si es usuario ingresa un tiempo menor a cero, este le pide que vuelva a ingresarlo\n",
        "def verificarTiempo(t):   \n",
        "   while (t<0):\n",
        "    print('El tiempo no puede ser negativo, vuelva a ingresar otro valor\\n')\n",
        "    t = float(input('Ingresa el tiempo en segundos\\n'))\n"
      ],
      "metadata": {
        "id": "xP7-adPi2Q01"
      },
      "execution_count": 30,
      "outputs": []
    },
    {
      "cell_type": "code",
      "source": [
        "#función que verifica si es que un valor es iguala cero\n",
        "#si se da el caso, muestra un mensaje de que no se puede calcular\n",
        "def verificarCero(x):\n",
        "  if x==0:\n",
        "    print('No se puede calcular \\n')"
      ],
      "metadata": {
        "id": "XIyj6y_RJZcZ"
      },
      "execution_count": 31,
      "outputs": []
    },
    {
      "cell_type": "markdown",
      "source": [
        "MRU"
      ],
      "metadata": {
        "id": "Xx8PrkEC-FHX"
      }
    },
    {
      "cell_type": "code",
      "source": [
        "#Método para calcular la distacia en MRU\n",
        "def distacia(): \n",
        "  v = float(input ('Ingresa la velocidad en m/s\\n'))\n",
        "  t = float(input ('Ingresa el tiempo en segundos\\n'))\n",
        "  verificarTiempo(t)\n",
        "  d = v * t\n",
        "  print('--> Respuesta: La distancia es ',d,' metros\\n')"
      ],
      "metadata": {
        "id": "nrWluP7d-Ey6"
      },
      "execution_count": 32,
      "outputs": []
    },
    {
      "cell_type": "code",
      "source": [
        "#Método para calcular la el tiempo en MRU\n",
        "def tiempo(): \n",
        "  v = float(input ('Ingresa la velocidad en m/s\\n'))\n",
        "  d = float(input ('Ingresa la distancia en metros\\n'))\n",
        "  verificarCero(v)\n",
        "  t = d / v\n",
        "  if t<0:\n",
        "    t = -t\n",
        "  print('El tiempo es ',t, ' segundos\\n')"
      ],
      "metadata": {
        "id": "JOlCULNJG7kt"
      },
      "execution_count": 33,
      "outputs": []
    },
    {
      "cell_type": "code",
      "source": [
        "#Método para calcular la velocidad en MRU\n",
        "def velocidad(): \n",
        "  t = float(input ('Ingresa el tiempo en segundos\\n'))\n",
        "  verificarTiempo(t)\n",
        "  d = float(input ('Ingresa la distancia en metros\\n'))\n",
        "  verificarCero(t)\n",
        "  v = d / t\n",
        "  print('La velocidad es ',v, ' m/s\\n')"
      ],
      "metadata": {
        "id": "FE1xwTHuG9pi"
      },
      "execution_count": 34,
      "outputs": []
    },
    {
      "cell_type": "markdown",
      "source": [
        "MRUV"
      ],
      "metadata": {
        "id": "_SSy9wk7EBFk"
      }
    },
    {
      "cell_type": "code",
      "source": [
        "#Método para calcular la distacia en MRUV\n",
        "def distanciaMRUV():\n",
        "  vi = float(input('Ingresa la velocidad inicial en m/s\\n'))\n",
        "  t = float(input('Ingresa el tiempo en segundos\\n'))\n",
        "  verificarTiempo(t)\n",
        "  a = float(input('Ingresa la aceleracion en m/s²\\n'))\n",
        "  vx = (vi * t) + (a * a*(t^2))/2\n",
        "  print('La distancia es',vx, 'metros')"
      ],
      "metadata": {
        "id": "Yc9dBPIDD_6X"
      },
      "execution_count": 22,
      "outputs": []
    },
    {
      "cell_type": "code",
      "source": [
        "#Método para calcular la velocidad en MRUV\n",
        "def velocidadfinal():\n",
        "  vi = float(input('Ingresa la velocidad inicial en m/s\\n'))\n",
        "  t = float(input('Ingresa el tiempo en segundos\\n'))\n",
        "  verificarTiempo(t)\n",
        "  a = float(input('Ingresa la aceleracion en m/s²\\n'))\n",
        "\n",
        "  vf = vi + (a * t)\n",
        "  print('--> Respuesta: La velocidad final es ',vf, ' m/s')"
      ],
      "metadata": {
        "id": "wRLSjvvxEtee"
      },
      "execution_count": 35,
      "outputs": []
    },
    {
      "cell_type": "markdown",
      "source": [
        "menu principal"
      ],
      "metadata": {
        "id": "2ErKidep98WF"
      }
    },
    {
      "cell_type": "code",
      "source": [
        "#Main\n",
        "print('NOTA\\n: Considerar para el ingreso de datos :\\n')\n",
        "print('Distacia: en metros(m)\\n') \n",
        "print('Tiempo : en segundos(s)\\n')\n",
        "print('Aceleración: metros por segundo(m/s)\\n')\n",
        "print('Velocidad: metros por segundo al cuadrado (m/s²)\\n')\n",
        "continuar = 1\n",
        "while (continuar == 1):\n",
        "  print(\"1: MRU\\n2: MRUV\\n\")\n",
        "  opcion = int(input(\"Elija una opción\\n\"))\n",
        "  if opcion == 1:\n",
        "    print('---------------MRU-----------------\\n')\n",
        "    print(\"OPCIONES\\n1: distancia\\n2: tiempo\\n3: velocidad\\n\")\n",
        "    opcionesMRU = int(input(\"Elija una opción\\n\"))\n",
        "    if opcionesMRU == 1:\n",
        "      print('----△x:distancia----')\n",
        "      distacia()\n",
        "    elif opcionesMRU == 2:  \n",
        "      print('----t:tiempo-----')\n",
        "      tiempo()\n",
        "    else:\n",
        "      print('----v:velocidad----')\n",
        "      velocidad()\n",
        "  else:\n",
        "    print('---------------MRUV-----------------\\n')\n",
        "    print('OPCIONES\\n1: Calcular distancia\\n2: Calcular velocidad final')\n",
        "    try:\n",
        "      opcion1 = int(input(\"Escoja una opción\\n\"))\n",
        "      if opcion1 == 1:\n",
        "        print('----△x:distacia----')\n",
        "        distanciaMRUV()\n",
        "      if opcion1 == 2:\n",
        "        print('----Vf: velocidad final----')\n",
        "        velocidadfinal()\n",
        "    except:\n",
        "      print('Digite una opción correcta\\n')\n",
        "  continuar = int(input(\"Si desea continuar, dijite 1, caso contrario dijite cualquier otro valor\\n\"))\n",
        "\n"
      ],
      "metadata": {
        "colab": {
          "base_uri": "https://localhost:8080/"
        },
        "id": "Z5ctt6JQ30O-",
        "outputId": "1ce9a7f9-4c6a-4845-c69a-bb3598f11842"
      },
      "execution_count": 38,
      "outputs": [
        {
          "name": "stdout",
          "output_type": "stream",
          "text": [
            "NOTA\n",
            ": Considerar para el ingreso de datos :\n",
            "\n",
            "Distacia: en metros(m)\n",
            "\n",
            "Tiempo : en segundos(s)\n",
            "\n",
            "Aceleración: metros por segundo(m/s)\n",
            "\n",
            "Velocidad: metros por segundo al cuadrado (m/s²)\n",
            "\n",
            "1: MRU\n",
            "2: MRUV\n",
            "\n",
            "Elija una opción\n",
            "2\n",
            "---------------MRUV-----------------\n",
            "\n",
            "OPCIONES\n",
            "1: Calcular distancia\n",
            "2: Calcular velocidad final\n",
            "Escoja una opción\n",
            "2\n",
            "----Vf: velocidad final----\n",
            "Ingresa la velocidad inicial en metros por segundo\n",
            "5\n",
            "Ingresa el tiempo en segundos\n",
            "-5\n",
            "El tiempo no puede ser negativo, vuelva a ingresar otro valor\n",
            "\n",
            "Ingresa el tiempo en segundos\n",
            "6\n",
            "Ingresa la aceleracion en m/s por segundo\n",
            "2\n",
            "--> Respuesta: La velocidad final es  -5.0  m/s²\n",
            "Si desea continuar, dijite 1\n",
            "0\n"
          ]
        }
      ]
    }
  ]
}