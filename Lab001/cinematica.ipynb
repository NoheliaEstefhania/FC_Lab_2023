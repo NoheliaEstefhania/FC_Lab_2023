{
  "nbformat": 4,
  "nbformat_minor": 0,
  "metadata": {
    "colab": {
      "provenance": [],
      "authorship_tag": "ABX9TyO4LypfmNvzztJzsCKki7dR",
      "include_colab_link": true
    },
    "kernelspec": {
      "name": "python3",
      "display_name": "Python 3"
    },
    "language_info": {
      "name": "python"
    }
  },
  "cells": [
    {
      "cell_type": "markdown",
      "metadata": {
        "id": "view-in-github",
        "colab_type": "text"
      },
      "source": [
        "<a href=\"https://colab.research.google.com/github/NoheliaEstefhania/FC_Lab_2023/blob/main/Lab001/cinematica.ipynb\" target=\"_parent\"><img src=\"https://colab.research.google.com/assets/colab-badge.svg\" alt=\"Open In Colab\"/></a>"
      ]
    },
    {
      "cell_type": "code",
      "execution_count": 1,
      "metadata": {
        "id": "EcmJWCSopDoJ"
      },
      "outputs": [],
      "source": [
        "import math\n",
        "import numpy as np"
      ]
    },
    {
      "cell_type": "markdown",
      "source": [
        "MRU"
      ],
      "metadata": {
        "id": "Xx8PrkEC-FHX"
      }
    },
    {
      "cell_type": "code",
      "source": [
        "def distacia():\n",
        "  v = int (input ('Ingresa la velocidad en metros por segundo\\n'))\n",
        "  t = int (input ('Ingresa el tiempo en segundos\\n'))\n",
        "  vx = v * t\n",
        "  return ('La distancia es',vx, 'metros')"
      ],
      "metadata": {
        "id": "nrWluP7d-Ey6"
      },
      "execution_count": 20,
      "outputs": []
    },
    {
      "cell_type": "markdown",
      "source": [
        "MRUV"
      ],
      "metadata": {
        "id": "_SSy9wk7EBFk"
      }
    },
    {
      "cell_type": "code",
      "source": [
        "def distancia2():\n",
        "  vi = int (input('Ingresa la velocidad inicial en metros por segundo\\n'))\n",
        "  t = int (input('Ingresa el tiempo en segundos\\n'))\n",
        "  a = int (input('Ingresa la aceleracion en metros por segundo'))\n",
        "  vx = (vi * t) + (a * a*(t^2))/2\n",
        "  return ('La distancia es',vx, 'metros')"
      ],
      "metadata": {
        "id": "Yc9dBPIDD_6X"
      },
      "execution_count": 9,
      "outputs": []
    },
    {
      "cell_type": "code",
      "source": [
        "def velocidadfinal():\n",
        "  vi = int (input('Ingresa la velocidad inicial en metros por segundo\\n'))\n",
        "  t = int (input('Ingresa el tiempo en segundos\\n'))\n",
        "  a = int (input('Ingresa la aceleracion en metros por segundo'))\n",
        "  \n",
        "  vf = vi + (a * t)\n",
        "  return ('La velocidad final es',vf, 'metros por segundo')"
      ],
      "metadata": {
        "id": "wRLSjvvxEtee"
      },
      "execution_count": 27,
      "outputs": []
    },
    {
      "cell_type": "markdown",
      "source": [
        "menu principal"
      ],
      "metadata": {
        "id": "2ErKidep98WF"
      }
    },
    {
      "cell_type": "code",
      "source": [
        "continuar = 1\n",
        "while (continuar == 1):\n",
        "  print(\"1: MRU\\n2: MRUV\\n\")\n",
        "  opcion = int(input(\"Elija una opción\\n\"))\n",
        "  if opcion == 1:\n",
        "    print('△x:distacia')\n",
        "    distacia()\n",
        "  else:\n",
        "    print('1: △x\\n2:Vf')\n",
        "    print('La distancia es ', x)\n",
        "    try:\n",
        "      opcion1 = int(input(\"Escoja una opción\"))\n",
        "      if opcion1 == 1:\n",
        "        print('△x')\n",
        "        distancia2()\n",
        "      if opcion1 == 2:\n",
        "        print('Vf')\n",
        "        velocidadfinal()\n",
        "    except:\n",
        "      print('Digite una opción correcta')\n",
        "  continuar = int(input(\"Si desea continuar, dijite 1\\n\"))\n",
        "\n"
      ],
      "metadata": {
        "colab": {
          "base_uri": "https://localhost:8080/"
        },
        "id": "Z5ctt6JQ30O-",
        "outputId": "1ffd7c27-0660-4f5f-dd66-be9663d9c63e"
      },
      "execution_count": 28,
      "outputs": [
        {
          "name": "stdout",
          "output_type": "stream",
          "text": [
            "1: MRU\n",
            "2: MRUV\n",
            "\n",
            "Elija una opción\n",
            "1\n",
            "△x:distacia\n",
            "Ingresa la velocidad en metros por segundo\n",
            "2\n",
            "Ingresa el tiempo en segundos\n",
            "5\n",
            "La distancia es  10\n",
            "Si desea continuar, dijite 1\n",
            "3\n"
          ]
        }
      ]
    }
  ]
}