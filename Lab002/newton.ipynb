{
  "nbformat": 4,
  "nbformat_minor": 0,
  "metadata": {
    "colab": {
      "provenance": [],
      "authorship_tag": "ABX9TyMBJDKZgqLSYnbuwQ4N4sES",
      "include_colab_link": true
    },
    "kernelspec": {
      "name": "python3",
      "display_name": "Python 3"
    },
    "language_info": {
      "name": "python"
    }
  },
  "cells": [
    {
      "cell_type": "markdown",
      "metadata": {
        "id": "view-in-github",
        "colab_type": "text"
      },
      "source": [
        "<a href=\"https://colab.research.google.com/github/NoheliaEstefhania/FC_Lab_2023/blob/main/Lab002/newton.ipynb\" target=\"_parent\"><img src=\"https://colab.research.google.com/assets/colab-badge.svg\" alt=\"Open In Colab\"/></a>"
      ]
    },
    {
      "cell_type": "markdown",
      "source": [
        "1. MÁQUINA DE ATWOOD: Escriba un código donde se emplee máquina de Atwood para determinar la magnitud de la aceleración de dos objetos y la tensión en la cuerda sin peso."
      ],
      "metadata": {
        "id": "i41_4ctZJrTp"
      }
    },
    {
      "cell_type": "code",
      "execution_count": 4,
      "metadata": {
        "id": "1ElYP6k4-Dfm"
      },
      "outputs": [],
      "source": [
        "import math"
      ]
    },
    {
      "cell_type": "code",
      "source": [
        "continuar = 1\n",
        "while continuar == 1:\n",
        "  m1 = float(input('Ingrese la masa 1 en kilogramos\\n'))\n",
        "  m2 = float(input('Ingrese la masa 2 en kilogramos\\n'))\n",
        "  g = 9.8\n",
        "  if m2 > m1:\n",
        "    a = ((m2 - m1)/ (m1 + m2)) * g\n",
        "    tension = ((2*m1*m2)/(m1+m2))*g\n",
        "  elif m1 > m2:\n",
        "    a = ((m1 - m2)/ (m1 + m2)) * g\n",
        "    tension = ((2*m1*m2)/(m1+m2))*g\n",
        "  else:\n",
        "    tension = m1 * g\n",
        "    print('No hay aceleración a = 0\\n')\n",
        "  print('La aceleración es ', a, ' m/s^2')\n",
        "  print('La tensión es ', tension, ' newton')\n",
        "  continuar = int (input('Si desea continuar ingrese 1, caso contrario ingrese cualquier otro valor\\n'))\n",
        "\n"
      ],
      "metadata": {
        "colab": {
          "base_uri": "https://localhost:8080/"
        },
        "id": "OQR-yVOFJ9Fw",
        "outputId": "4aa0f328-e9e2-4e30-fc9e-f0eb291b7d58"
      },
      "execution_count": 8,
      "outputs": [
        {
          "name": "stdout",
          "output_type": "stream",
          "text": [
            "Ingrese la masa 1 en kilogramos\n",
            "5\n",
            "Ingrese la masa 2 en kilogramos\n",
            "5\n",
            "No hay aceleración a = 0\n",
            "\n",
            "La aceleración es  1.9600000000000002  m/s^2\n",
            "La tensión es  49.0  newton\n",
            "Si desea continuar ingrese 1, caso contrario ingrese cualquier otro valor\n",
            "0\n"
          ]
        }
      ]
    },
    {
      "cell_type": "markdown",
      "source": [
        "2. Un móvil de masa m recorre una distancia d en un tiempo t, al inicio tiene una velocidad inicial vi y una velocidad final vf . Escriba un código que determine la fuerza que describe el móvil al momento de realizar el cambio de velocidad y grafique el proceso."
      ],
      "metadata": {
        "id": "pktfzm2eL-II"
      }
    },
    {
      "cell_type": "code",
      "source": [
        "continuar = 1\n",
        "while continuar == 1:\n",
        "  m = float(input('Ingrese la masa en kilogramos\\n'))\n",
        "  d = float(input('Ingrese la distancia en metros\\n'))\n",
        "  t = float(input('Ingrese el tiempo en segundos\\n'))\n",
        "  vi = float(input('Ingrese la velocidad inicial en m/s\\n'))\n",
        "  vf = float(input('Ingrese la velocidad final en m/s\\n'))\n",
        "  g = 9.8\n",
        "  a = (pow(vf, 2) - pow(vi, 2))/(2*d)\n",
        "  fuerza = m * a\n",
        "  print('La aceleración es ', a, ' m/s^2')\n",
        "  print('La fuerza es ', fuerza, ' newton')\n",
        "  continuar = int (input('Si desea continuar ingrese 1, caso contrario ingrese cualquier otro valor\\n'))"
      ],
      "metadata": {
        "colab": {
          "base_uri": "https://localhost:8080/"
        },
        "id": "VB1Fi-kPMMVo",
        "outputId": "17583ab6-3f65-436d-b07d-7334f4b3ccfb"
      },
      "execution_count": 11,
      "outputs": [
        {
          "name": "stdout",
          "output_type": "stream",
          "text": [
            "Ingrese la masa en kilogramos\n",
            "5\n",
            "Ingrese la distancia en metros\n",
            "12\n",
            "Ingrese el tiempo en segundos\n",
            "456\n",
            "Ingrese la velocidad inicial en m/s\n",
            "3645\n",
            "Ingrese la velocidad final en m/s\n",
            "123\n",
            "Si desea continuar ingrese 1, caso contrario ingrese cualquier otro valor\n",
            "45\n"
          ]
        }
      ]
    }
  ]
}